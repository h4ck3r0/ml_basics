{
 "cells": [
  {
   "cell_type": "markdown",
   "metadata": {},
   "source": [
    "# Notebook 2: Time Series Analysis\n",
    "\n",
    "Welcome to the second notebook in our advanced machine learning series under **Part_3_Advanced_Topics**. In this notebook, we will explore **Time Series Analysis**, a set of techniques for analyzing and forecasting data collected over time, which is crucial in fields like finance, weather prediction, and sales forecasting.\n",
    "\n",
    "We'll cover the following topics:\n",
    "- What is Time Series Analysis?\n",
    "- Key concepts: Trend, Seasonality, and Noise\n",
    "- How Time Series models work\n",
    "- Implementation using pandas and statsmodels\n",
    "- Advantages and limitations"
   ]
  },
  {
   "cell_type": "markdown",
   "metadata": {},
   "source": [
    "## What is Time Series Analysis?\n",
    "\n",
    "Time Series Analysis involves studying data points collected or recorded at specific time intervals to identify patterns, trends, and seasonal variations. The goal is often to forecast future values based on historical data.\n",
    "\n",
    "Unlike standard regression problems, time series data has a temporal dependency, meaning past values influence future ones, requiring specialized models and techniques."
   ]
  },
  {
   "cell_type": "markdown",
   "metadata": {},
   "source": [
    "## Key Concepts\n",
    "\n",
    "- **Trend:** The long-term movement or direction in the data (e.g., increasing, decreasing, or constant).\n",
    "- **Seasonality:** Regular, periodic fluctuations in the data due to seasonal effects (e.g., higher sales during holidays every year).\n",
    "- **Noise:** Random variations or irregularities in the data that cannot be attributed to trend or seasonality.\n",
    "- **Stationarity:** A property of time series where statistical properties like mean and variance remain constant over time. Many models assume or require stationarity.\n",
    "- **Autocorrelation:** The correlation of a time series with its own past values, used to identify repeating patterns or dependencies.\n",
    "- **ARIMA Model:** AutoRegressive Integrated Moving Average, a popular model combining autoregression (AR), differencing (I for integration), and moving average (MA) components."
   ]
  },
  {
   "cell_type": "markdown",
   "metadata": {},
   "source": [
    "## How Time Series Models Work\n",
    "\n",
    "Time series analysis typically involves the following steps:\n",
    "\n",
    "1. **Data Collection and Visualization:** Gather time series data and plot it to visually inspect for trends, seasonality, and anomalies.\n",
    "2. **Decomposition:** Break down the series into trend, seasonality, and residual (noise) components.\n",
    "3. **Stationarity Testing and Transformation:** Check if the data is stationary using tests like the Augmented Dickey-Fuller (ADF) test. If not, apply transformations like differencing or detrending.\n",
    "4. **Model Selection and Fitting:** Choose a model (e.g., ARIMA) based on autocorrelation and partial autocorrelation plots, and fit it to the data.\n",
    "5. **Forecasting:** Use the fitted model to predict future values.\n",
    "6. **Evaluation:** Assess the model's performance using metrics like Mean Absolute Error (MAE) or Root Mean Squared Error (RMSE)."
   ]
  },
  {
   "cell_type": "markdown",
   "metadata": {},
   "source": [
    "## Implementation Using pandas and statsmodels\n",
    "\n",
    "Let's implement a basic time series analysis using Python. We'll use pandas for data manipulation and statsmodels for modeling and forecasting with an ARIMA model on a synthetic dataset."
   ]
  },
  {
   "cell_type": "code",
   "execution_count": null,
   "metadata": {},
   "outputs": [],
   "source": [
    "# Import necessary libraries\n",
    "import numpy as np\n",
    "import pandas as pd\n",
    "import matplotlib.pyplot as plt\n",
    "from statsmodels.tsa.seasonal import seasonal_decompose\n",
    "from statsmodels.tsa.stattools import adfuller\n",
    "from statsmodels.tsa.arima.model import ARIMA\n",
    "from sklearn.metrics import mean_absolute_error, mean_squared_error\n",
    "\n",
    "# Generate a synthetic time series dataset with trend and seasonality\n",
    "np.random.seed(42)\n",
    "t = np.arange(0, 100, 1)\n",
    "trend = 0.5 * t\n",
    "seasonality = 10 * np.sin(2 * np.pi * t / 12)\n",
    "noise = np.random.normal(0, 2, len(t))\n",
    "data = trend + seasonality + noise\n",
    "\n",
    "# Create a DataFrame with a time index\n",
    "dates = pd.date_range(start='2020-01-01', periods=len(t), freq='M')\n",
    "ts_df = pd.DataFrame(data, index=dates, columns=['value'])\n",
    "\n",
    "# Visualize the time series\n",
    "plt.figure(figsize=(10, 6))\n",
    "plt.plot(ts_df, label='Time Series Data')\n",
    "plt.title('Synthetic Time Series with Trend and Seasonality')\n",
    "plt.xlabel('Date')\n",
    "plt.ylabel('Value')\n",
    "plt.legend()\n",
    "plt.show()\n",
    "\n",
    "# Decompose the time series\n",
    "decomposition = seasonal_decompose(ts_df['value'], model='additive', period=12)\n",
    "fig = decomposition.plot()\n",
    "fig.set_size_inches(10, 8)\n",
    "plt.show()\n",
    "\n",
    "# Test for stationarity using Augmented Dickey-Fuller test\n",
    "result = adfuller(ts_df['value'])\n",
    "print(f'ADF Statistic: {result[0]}')\n",
    "print(f'p-value: {result[1]}')\n",
    "print('Critical Values:', result[4])\n",
    "if result[1] < 0.05:\n",
    "    print('The series is stationary')\n",
    "else:\n",
    "    print('The series is not stationary')\n",
    "\n",
    "# Since the series may not be stationary due to trend, let's difference it\n",
    "ts_diff = ts_df['value'].diff().dropna()\n",
    "result_diff = adfuller(ts_diff)\n",
    "print(f'ADF Statistic after differencing: {result_diff[0]}')\n",
    "print(f'p-value after differencing: {result_diff[1]}')\n",
    "if result_diff[1] < 0.05:\n",
    "    print('The differenced series is stationary')\n",
    "else:\n",
    "    print('The differenced series is not stationary')\n",
    "\n",
    "# Split the data into training and testing sets\n",
    "train_size = int(len(ts_df) * 0.8)\n",
    "train, test = ts_df['value'][:train_size], ts_df['value'][train_size:]\n",
    "\n",
    "# Fit an ARIMA model (order determined by trial, typically after ACF/PACF analysis)\n",
    "# For simplicity, using ARIMA(1,1,1) due to differencing and basic trend/seasonality\n",
    "model = ARIMA(train, order=(1, 1, 1))\n",
    "model_fit = model.fit()\n",
    "print(model_fit.summary())\n",
    "\n",
    "# Forecast future values\n",
    "forecast = model_fit.forecast(steps=len(test))\n",
    "forecast_index = test.index\n",
    "\n",
    "# Plot the forecast against actual values\n",
    "plt.figure(figsize=(10, 6))\n",
    "plt.plot(train.index, train, label='Training Data')\n",
    "plt.plot(test.index, test, label='Actual Test Data')\n",
    "plt.plot(forecast_index, forecast, label='Forecast', color='red')\n",
    "plt.title('ARIMA Forecast vs Actual Values')\n",
    "plt.xlabel('Date')\n",
    "plt.ylabel('Value')\n",
    "plt.legend()\n",
    "plt.show()\n",
    "\n",
    "# Evaluate the forecast\n",
    "mae = mean_absolute_error(test, forecast)\n",
    "rmse = np.sqrt(mean_squared_error(test, forecast))\n",
    "print(f'Mean Absolute Error (MAE): {mae:.2f}')\n",
    "print(f'Root Mean Squared Error (RMSE): {rmse:.2f}')"
   ]
  },
  {
   "cell_type": "markdown",
   "metadata": {},
   "source": [
    "## Advantages and Limitations\n",
    "\n",
    "**Advantages:**\n",
    "- Captures temporal dependencies and patterns like trends and seasonality, which are critical for forecasting.\n",
    "- Provides interpretable components (trend, seasonality) through decomposition.\n",
    "- Models like ARIMA are well-established and can be effective for linear time series.\n",
    "\n",
    "**Limitations:**\n",
    "- Assumes certain properties like stationarity, which may require preprocessing (differencing, detrending).\n",
    "- Traditional models like ARIMA struggle with non-linear patterns; advanced methods (e.g., neural networks) may be needed.\n",
    "- Requires careful selection of model parameters (e.g., ARIMA orders), often through trial and error or diagnostic plots.\n",
    "- Sensitive to missing data or outliers, which can distort analysis and forecasts."
   ]
  },
  {
   "cell_type": "markdown",
   "metadata": {},
   "source": [
    "## Conclusion\n",
    "\n",
    "Time Series Analysis is a powerful approach for understanding and predicting data that evolves over time. By decomposing data into trend, seasonality, and noise, and applying models like ARIMA, you can generate meaningful forecasts for various applications. While traditional methods have limitations with complex or non-linear data, they form a solid foundation before exploring advanced techniques like LSTM or Prophet.\n",
    "\n",
    "In the next notebook, we will explore another advanced topic to further enhance our machine learning toolkit."
   ]
  }
 ],
 "metadata": {
  "kernelspec": {
   "display_name": "Python 3",
   "language": "python",
   "name": "python3"
  },
  "language_info": {
   "codemirror_mode": {
    "name": "ipython",
    "version": 3
   },
   "file_extension": ".py",
   "mimetype": "text/x-python",
   "name": "python",
   "nbconvert_exporter": "python",
   "pygments_lexer": "ipython3",
   "version": "3.8.8"
  }
 },
 "nbformat": 4,
 "nbformat_minor": 2
}