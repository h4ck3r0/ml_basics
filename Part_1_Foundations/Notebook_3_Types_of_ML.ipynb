{
 "cells": [
  {
   "cell_type": "markdown",
   "metadata": {},
   "source": [
    "# Types of Machine Learning\n",
    "\n",
    "Welcome to the third notebook in our **Machine Learning Basics for Beginners** series! Now that you understand what machine learning (ML) is and some key concepts like data, features, and training, let's explore the different *types* of machine learning. Each type has its own way of learning from data and solving problems.\n",
    "\n",
    "**What You'll Learn in This Notebook:**\n",
    "- The three main types of machine learning: supervised, unsupervised, and reinforcement learning.\n",
    "- How each type works and when it's used, with relatable examples.\n",
    "- An interactive exercise to classify scenarios by ML type.\n",
    "- A visualization to help distinguish between the types.\n",
    "\n",
    "Let's dive in!"
   ]
  },
  {
   "cell_type": "markdown",
   "metadata": {},
   "source": [
    "## 1. Supervised Learning: Learning with a Teacher\n",
    "\n",
    "**Supervised Learning** is the most common type of machine learning. In this approach, the computer is like a student learning with a teacher. We give it data that includes both **features** (clues) and **labels** (correct answers), so it can learn the relationship between them.\n",
    "\n",
    "- **How it Works**: The computer uses the training data to find patterns that connect features to labels. Then, it uses these patterns to predict labels for new, unseen data.\n",
    "- **Two Main Tasks**:\n",
    "  - **Classification**: Predicting a category or label (e.g., is this email spam or not spam? Is this picture a cat or a dog?).\n",
    "  - **Regression**: Predicting a continuous value (e.g., what will the house price be? What will tomorrow's temperature be?).\n",
    "- **Examples**:\n",
    "  - Predicting house prices based on size and location (regression).\n",
    "  - Identifying whether a customer review is positive or negative (classification).\n",
    "\n",
    "**Analogy**: Imagine teaching a child to recognize apples and oranges. You show them lots of fruits labeled as \"apple\" or \"orange\" (supervised data). After seeing enough examples, they learn to identify new fruits on their own based on color and shape.\n",
    "\n",
    "**When to Use**: Use supervised learning when you have labeled data and want to predict specific outcomes."
   ]
  },
  {
   "cell_type": "markdown",
   "metadata": {},
   "source": [
    "## 2. Unsupervised Learning: Finding Patterns Without a Teacher\n",
    "\n",
    "**Unsupervised Learning** is when the computer learns without any labels or correct answers. It’s like a student exploring on their own, trying to find hidden patterns or structures in the data.\n",
    "\n",
    "- **How it Works**: The computer looks at the features in the data and groups or organizes them based on similarities or differences, without knowing what the groups mean.\n",
    "- **Two Main Tasks**:\n",
    "  - **Clustering**: Grouping similar data points together (e.g., grouping customers into similar shopping habits).\n",
    "  - **Dimensionality Reduction**: Simplifying data by reducing the number of features while keeping important information (e.g., compressing images without losing key details).\n",
    "- **Examples**:\n",
    "  - Grouping social media users into communities based on shared interests (clustering).\n",
    "  - Recommending products by finding patterns in what people buy, even without explicit labels (clustering).\n",
    "\n",
    "**Analogy**: Imagine giving a child a box of mixed toys with no instructions. They might naturally sort them into piles of cars, dolls, and blocks based on similarities they notice. They don’t know the \"correct\" categories—they just find patterns!\n",
    "\n",
    "**When to Use**: Use unsupervised learning when you don’t have labeled data but want to discover hidden patterns or groupings."
   ]
  },
  {
   "cell_type": "markdown",
   "metadata": {},
   "source": [
    "## 3. Reinforcement Learning: Learning by Trial and Error\n",
    "\n",
    "**Reinforcement Learning** is a bit different. Here, the computer learns by interacting with an environment, trying things out, and getting feedback in the form of rewards or penalties. It’s like learning through experience, without explicit data or labels at the start.\n",
    "\n",
    "- **How it Works**: The computer (called an \"agent\") takes actions in an environment, receives feedback (a reward if the action is good, a penalty if it’s bad), and learns to maximize the reward over time.\n",
    "- **Key Idea**: It’s all about trial and error. The agent keeps experimenting to figure out the best actions to take in different situations.\n",
    "- **Examples**:\n",
    "  - Teaching a robot to walk by rewarding it when it takes a step forward and penalizing it when it falls.\n",
    "  - Training a game-playing AI (like in chess or video games) to win by rewarding successful moves.\n",
    "\n",
    "**Analogy**: Think of teaching a dog a trick. You don’t give it a list of instructions—you let it try different things, and when it does the right action (like sitting), you give it a treat (reward). Over time, it learns what actions get treats!\n",
    "\n",
    "**When to Use**: Use reinforcement learning when you want a system to learn through interaction, especially in dynamic or complex environments like games or robotics."
   ]
  },
  {
   "cell_type": "markdown",
   "metadata": {},
   "source": [
    "## 4. Interactive Exercise: Which Type of Machine Learning?\n",
    "\n",
    "Let’s test your understanding by looking at some scenarios and figuring out which type of machine learning they likely involve: supervised, unsupervised, or reinforcement learning.\n",
    "\n",
    "**Instructions**:\n",
    "- Run the code below.\n",
    "- For each scenario, type the type of ML you think it is (supervised, unsupervised, or reinforcement).\n",
    "- After answering, you’ll get feedback on whether you’re correct."
   ]
  },
  {
   "cell_type": "code",
   "execution_count": null,
   "metadata": {},
   "outputs": [],
   "source": [
    "# Interactive exercise to classify scenarios by ML type\n",
    "print(\"Welcome to the 'Which Type of Machine Learning?' Exercise!\")\n",
    "print(\"For each scenario, type the type of ML you think it involves: supervised, unsupervised, or reinforcement.\\n\")\n",
    "\n",
    "# List of scenarios with correct answers and explanations\n",
    "scenarios = [\n",
    "    (\"1. Predicting whether a customer will buy a product based on past purchases and labeled data.\", \"supervised\", \"This is supervised learning because we have labeled data (whether they bought or not) to train the model.\"),\n",
    "    (\"2. Grouping customers into similar categories based on shopping habits, without knowing the categories in advance.\", \"unsupervised\", \"This is unsupervised learning because there are no labels; the model finds patterns or groups on its own.\"),\n",
    "    (\"3. Training a robot to pick up objects by rewarding it each time it succeeds.\", \"reinforcement\", \"This is reinforcement learning because the robot learns through trial and error with rewards for correct actions.\"),\n",
    "    (\"4. Identifying if an email is spam or not using a dataset of emails marked as spam or not spam.\", \"supervised\", \"This is supervised learning because we have labeled data (spam or not spam) to train the model.\"),\n",
    "    (\"5. A game AI learning to play chess by playing many games and getting points for winning.\", \"reinforcement\", \"This is reinforcement learning because the AI learns through interaction and rewards (winning points).\")\n",
    "]\n",
    "\n",
    "score = 0\n",
    "total = len(scenarios)\n",
    "\n",
    "# Ask user for answers\n",
    "for scenario, correct_answer, explanation in scenarios:\n",
    "    user_answer = input(scenario + \" (supervised/unsupervised/reinforcement): \").strip().lower()\n",
    "    if user_answer == correct_answer:\n",
    "        print(\"Correct! \" + explanation)\n",
    "        score += 1\n",
    "    else:\n",
    "        print(\"Incorrect. \" + explanation)\n",
    "    print()\n",
    "\n",
    "# Display final score\n",
    "print(f\"Exercise complete! Your score: {score}/{total}\")\n",
    "if score == total:\n",
    "    print(\"Perfect! You’ve got a great understanding of ML types.\")\n",
    "elif score >= total * 0.75:\n",
    "    print(\"Well done! You’re getting the hang of different machine learning types.\")\n",
    "else:\n",
    "    print(\"Keep learning! Review the explanations above and try again if you’d like.\")"
   ]
  },
  {
   "cell_type": "markdown",
   "metadata": {},
   "source": [
    "## 5. Visualization: Comparing Types of Machine Learning\n",
    "\n",
    "To help you see the differences between supervised, unsupervised, and reinforcement learning, let’s create a simple diagram. This will show how each type interacts with data and learns.\n",
    "\n",
    "**Instructions**: Run the code below to generate the visualization. Focus on the output, not the code itself. Notice how each type of ML is represented differently based on how it learns."
   ]
  },
  {
   "cell_type": "code",
   "execution_count": null,
   "metadata": {},
   "outputs": [],
   "source": [
    "# Import matplotlib for visualization\n",
    "import matplotlib.pyplot as plt\n",
    "from matplotlib.patches import Rectangle, Arrow\n",
    "\n",
    "# Create a figure and axis\n",
    "fig, ax = plt.subplots(figsize=(12, 8))\n",
    "\n",
    "# Hide axes\n",
    "ax.axis('off')\n",
    "\n",
    "# Define positions for boxes\n",
    "box_width = 0.3\n",
    "box_height = 0.1\n",
    "supervised_y = 0.8\n",
    "unsupervised_y = 0.5\n",
    "reinforcement_y = 0.2\n",
    "\n",
    "# Supervised Learning Flow\n",
    "ax.add_patch(Rectangle((0.1, supervised_y), box_width, box_height, fill=True, color='lightblue'))\n",
    "ax.text(0.25, supervised_y + box_height/2, \"Data with Features & Labels\", ha='center', va='center')\n",
    "ax.add_patch(Arrow((0.4, supervised_y + box_height/2), (0.2, 0), color='black'))\n",
    "ax.add_patch(Rectangle((0.6, supervised_y), box_width, box_height, fill=True, color='lightblue'))\n",
    "ax.text(0.75, supervised_y + box_height/2, \"Learn to Predict Labels\", ha='center', va='center')\n",
    "ax.text(0.5, supervised_y + box_height + 0.05, \"Supervised Learning\", ha='center', fontsize=12, fontweight='bold')\n",
    "ax.text(0.5, supervised_y - 0.05, \"(e.g., Predict House Prices)\", ha='center', fontsize=10)\n",
    "\n",
    "# Unsupervised Learning Flow\n",
    "ax.add_patch(Rectangle((0.1, unsupervised_y), box_width, box_height, fill=True, color='lightgreen'))\n",
    "ax.text(0.25, unsupervised_y + box_height/2, \"Data with Features Only\", ha='center', va='center')\n",
    "ax.add_patch(Arrow((0.4, unsupervised_y + box_height/2), (0.2, 0), color='black'))\n",
    "ax.add_patch(Rectangle((0.6, unsupervised_y), box_width, box_height, fill=True, color='lightgreen'))\n",
    "ax.text(0.75, unsupervised_y + box_height/2, \"Find Patterns or Groups\", ha='center', va='center')\n",
    "ax.text(0.5, unsupervised_y + box_height + 0.05, \"Unsupervised Learning\", ha='center', fontsize=12, fontweight='bold')\n",
    "ax.text(0.5, unsupervised_y - 0.05, \"(e.g., Group Customers)\", ha='center', fontsize=10)\n",
    "\n",
    "# Reinforcement Learning Flow\n",
    "ax.add_patch(Rectangle((0.1, reinforcement_y), box_width, box_height, fill=True, color='lightcoral'))\n",
    "ax.text(0.25, reinforcement_y + box_height/2, \"Interact with Environment\", ha='center', va='center')\n",
    "ax.add_patch(Arrow((0.4, reinforcement_y + box_height/2), (0.2, 0), color='black'))\n",
    "ax.add_patch(Rectangle((0.6, reinforcement_y), box_width, box_height, fill=True, color='lightcoral'))\n",
    "ax.text(0.75, reinforcement_y + box_height/2, \"Learn from Rewards/Penalties\", ha='center', va='center')\n",
    "ax.text(0.5, reinforcement_y + box_height + 0.05, \"Reinforcement Learning\", ha='center', fontsize=12, fontweight='bold')\n",
    "ax.text(0.5, reinforcement_y - 0.05, \"(e.g., Train Robot to Walk)\", ha='center', fontsize=10)\n",
    "\n",
    "# Show the plot\n",
    "plt.title(\"Types of Machine Learning\", fontsize=14, pad=20)\n",
    "plt.show()\n",
    "\n",
    "print(\"Look at the diagram above:\")\n",
    "print(\"- Supervised Learning uses labeled data to predict outcomes.\")\n",
    "print(\"- Unsupervised Learning finds patterns without labels.\")\n",
    "print(\"- Reinforcement Learning learns through interaction and feedback (rewards/penalties).\")"
   ]
  },
  {
   "cell_type": "markdown",
   "metadata": {},
   "source": [
    "## 6. Key Takeaways\n",
    "\n",
    "- **Supervised Learning**: Learning from data with features and labels to predict outcomes (e.g., spam detection, price prediction). It’s like learning with a teacher.\n",
    "- **Unsupervised Learning**: Finding patterns or groupings in data without labels (e.g., customer segmentation). It’s like exploring on your own.\n",
    "- **Reinforcement Learning**: Learning by trial and error through interaction with an environment, guided by rewards and penalties (e.g., training a game AI or robot). It’s like learning from experience.\n",
    "\n",
    "You’ve now completed the foundational part of machine learning! With these concepts and types in mind, you’re ready to dive into specific algorithms and see how they work in practice.\n",
    "\n",
    "**What's Next?**\n",
    "Move on to **Notebook 4: Linear Regression** in Part 2: Core Algorithms to start learning about specific machine learning techniques. See you there!"
   ]
  }
 ],
 "metadata": {
  "kernelspec": {
   "display_name": "Python 3",
   "language": "python",
   "name": "python3"
  },
  "language_info": {
   "codemirror_mode": {
    "name": "ipython",
    "version": 3
   },
   "file_extension": ".py",
   "mimetype": "text/x-python",
   "name": "python",
   "nbconvert_exporter": "python",
   "pygments_lexer": "ipython3",
   "version": "3.9.7"
  }
 },
 "nbformat": 4,
 "nbformat_minor": 2
}